{
  "nbformat": 4,
  "nbformat_minor": 0,
  "metadata": {
    "colab": {
      "provenance": []
    },
    "kernelspec": {
      "name": "python3",
      "display_name": "Python 3"
    },
    "language_info": {
      "name": "python"
    }
  },
  "cells": [
    {
      "cell_type": "markdown",
      "source": [
        "**# PRADYTHA GALUH PUTRANTI**\n",
        "\n",
        "2304220013\n",
        "\n",
        "STATISTIKA DAN SAINS DATA"
      ],
      "metadata": {
        "id": "TPwSh1ZY2mmq"
      }
    },
    {
      "cell_type": "markdown",
      "source": [
        "# **# IMPORT LIBRARY DAN BACA DATASET**\n"
      ],
      "metadata": {
        "id": "wUYsy5GVoJmu"
      }
    },
    {
      "cell_type": "code",
      "source": [
        "import pandas as pd\n",
        "import numpy as np\n",
        "import seaborn as sns\n",
        "import matplotlib.pyplot as plt\n",
        "\n",
        "from sklearn.model_selection import train_test_split\n",
        "from sklearn.preprocessing import StandardScaler\n",
        "from sklearn.linear_model import LogisticRegression\n",
        "from sklearn.tree import DecisionTreeClassifier\n",
        "from sklearn.ensemble import RandomForestClassifier\n",
        "from sklearn.metrics import classification_report, confusion_matrix, accuracy_score\n",
        "\n",
        "# Tampilkan semua kolom\n",
        "pd.set_option('display.max_columns', None)\n",
        "\n",
        "# Baca dataset\n",
        "df = pd.read_csv('/content/Titanic-Dataset.csv')"
      ],
      "metadata": {
        "id": "RMrkB7JxoQbu"
      },
      "execution_count": 3,
      "outputs": []
    },
    {
      "cell_type": "markdown",
      "source": [
        "# **# 1. EKSPLORASI DATA**"
      ],
      "metadata": {
        "id": "fZhEZUwMoxBV"
      }
    },
    {
      "cell_type": "code",
      "source": [
        "print(\"===== Informasi Awal Dataset =====\")\n",
        "print(df.info())\n",
        "print(\"\\nStatistik Deskriptif:\")\n",
        "print(df.describe())"
      ],
      "metadata": {
        "colab": {
          "base_uri": "https://localhost:8080/"
        },
        "id": "xYrWYnVKpBGY",
        "outputId": "6a7e81ac-653b-40d9-ddb4-f9c67dac6d02"
      },
      "execution_count": 4,
      "outputs": [
        {
          "output_type": "stream",
          "name": "stdout",
          "text": [
            "===== Informasi Awal Dataset =====\n",
            "<class 'pandas.core.frame.DataFrame'>\n",
            "RangeIndex: 891 entries, 0 to 890\n",
            "Data columns (total 12 columns):\n",
            " #   Column       Non-Null Count  Dtype  \n",
            "---  ------       --------------  -----  \n",
            " 0   PassengerId  891 non-null    int64  \n",
            " 1   Survived     891 non-null    int64  \n",
            " 2   Pclass       891 non-null    int64  \n",
            " 3   Name         891 non-null    object \n",
            " 4   Sex          891 non-null    object \n",
            " 5   Age          714 non-null    float64\n",
            " 6   SibSp        891 non-null    int64  \n",
            " 7   Parch        891 non-null    int64  \n",
            " 8   Ticket       891 non-null    object \n",
            " 9   Fare         891 non-null    float64\n",
            " 10  Cabin        204 non-null    object \n",
            " 11  Embarked     889 non-null    object \n",
            "dtypes: float64(2), int64(5), object(5)\n",
            "memory usage: 83.7+ KB\n",
            "None\n",
            "\n",
            "Statistik Deskriptif:\n",
            "       PassengerId    Survived      Pclass         Age       SibSp  \\\n",
            "count   891.000000  891.000000  891.000000  714.000000  891.000000   \n",
            "mean    446.000000    0.383838    2.308642   29.699118    0.523008   \n",
            "std     257.353842    0.486592    0.836071   14.526497    1.102743   \n",
            "min       1.000000    0.000000    1.000000    0.420000    0.000000   \n",
            "25%     223.500000    0.000000    2.000000   20.125000    0.000000   \n",
            "50%     446.000000    0.000000    3.000000   28.000000    0.000000   \n",
            "75%     668.500000    1.000000    3.000000   38.000000    1.000000   \n",
            "max     891.000000    1.000000    3.000000   80.000000    8.000000   \n",
            "\n",
            "            Parch        Fare  \n",
            "count  891.000000  891.000000  \n",
            "mean     0.381594   32.204208  \n",
            "std      0.806057   49.693429  \n",
            "min      0.000000    0.000000  \n",
            "25%      0.000000    7.910400  \n",
            "50%      0.000000   14.454200  \n",
            "75%      0.000000   31.000000  \n",
            "max      6.000000  512.329200  \n"
          ]
        }
      ]
    },
    {
      "cell_type": "markdown",
      "source": [
        "***A. Berapa jumlah total penumpang dalam data?***"
      ],
      "metadata": {
        "id": "fu9AUmDTpJp8"
      }
    },
    {
      "cell_type": "code",
      "source": [
        "# a. Jumlah total penumpang\n",
        "total_penumpang = len(df)\n",
        "print(f\"\\nJumlah total penumpang: {total_penumpang}\")"
      ],
      "metadata": {
        "colab": {
          "base_uri": "https://localhost:8080/"
        },
        "id": "uEyDY3lMpfPz",
        "outputId": "cc3202dd-6838-445c-ed48-b5cd06f29159"
      },
      "execution_count": 5,
      "outputs": [
        {
          "output_type": "stream",
          "name": "stdout",
          "text": [
            "\n",
            "Jumlah total penumpang: 891\n"
          ]
        }
      ]
    },
    {
      "cell_type": "markdown",
      "source": [
        "***B. Berapa jumlah penumpang yang selamat dan tidak selamat? Tampilkan dalam bentuk tabel dan grafik.***"
      ],
      "metadata": {
        "id": "SQgAgvDhpnfm"
      }
    },
    {
      "cell_type": "code",
      "source": [
        "# b. Jumlah penumpang yang selamat dan tidak selamat\n",
        "survival_counts = df['Survived'].value_counts()\n",
        "print(\"\\nJumlah penumpang yang SELAMAT (1) dan TIDAK SELAMAT (0):\")\n",
        "print(survival_counts)\n",
        "\n",
        "# Visualisasi\n",
        "plt.figure(figsize=(6,4))\n",
        "sns.countplot(data=df, x='Survived')\n",
        "plt.title(\"Distribusi Keselamatan Penumpang\")\n",
        "plt.xticks([0,1], ['Tidak Selamat (0)', 'Selamat (1)'])\n",
        "plt.ylabel(\"Jumlah\")\n",
        "plt.show()"
      ],
      "metadata": {
        "colab": {
          "base_uri": "https://localhost:8080/",
          "height": 514
        },
        "id": "o0RVcAkCpp8l",
        "outputId": "5711e2ed-4b4a-45f0-ae25-46d1a00ac243"
      },
      "execution_count": 6,
      "outputs": [
        {
          "output_type": "stream",
          "name": "stdout",
          "text": [
            "\n",
            "Jumlah penumpang yang SELAMAT (1) dan TIDAK SELAMAT (0):\n",
            "Survived\n",
            "0    549\n",
            "1    342\n",
            "Name: count, dtype: int64\n"
          ]
        },
        {
          "output_type": "display_data",
          "data": {
            "text/plain": [
              "<Figure size 600x400 with 1 Axes>"
            ],
            "image/png": "[encoded data removed]"
          },
          "metadata": {}
        }
      ]
    },
    {
      "cell_type": "markdown",
      "source": [
        "***C. Berapa rata-rata umur penumpang? Dan siapa penumpang termuda dan tertua?***"
      ],
      "metadata": {
        "id": "1F_JrgZwpuon"
      }
    },
    {
      "cell_type": "code",
      "source": [
        "# c. Rata-rata umur, termuda, tertua\n",
        "mean_age = df['Age'].mean()\n",
        "min_age = df['Age'].min()\n",
        "max_age = df['Age'].max()\n",
        "print(f\"\\nRata-rata umur penumpang: {mean_age:.2f}\")\n",
        "print(f\"Penumpang termuda: {min_age}\")\n",
        "print(f\"Penumpang tertua: {max_age}\")"
      ],
      "metadata": {
        "colab": {
          "base_uri": "https://localhost:8080/"
        },
        "id": "eITvpoQypzZP",
        "outputId": "25c93c2a-8a94-4f34-b41a-fc35958724cd"
      },
      "execution_count": 7,
      "outputs": [
        {
          "output_type": "stream",
          "name": "stdout",
          "text": [
            "\n",
            "Rata-rata umur penumpang: 29.70\n",
            "Penumpang termuda: 0.42\n",
            "Penumpang tertua: 80.0\n"
          ]
        }
      ]
    },
    {
      "cell_type": "markdown",
      "source": [
        "***D. Berapa jumlah penumpang berdasarkan jenis kelamin? Siapa yang lebih banyak? Visualisasikan***"
      ],
      "metadata": {
        "id": "lMOZusqXp6XQ"
      }
    },
    {
      "cell_type": "code",
      "source": [
        "# d. Jumlah penumpang berdasarkan jenis kelamin\n",
        "gender_counts = df['Sex'].value_counts()\n",
        "print(\"\\nJumlah penumpang berdasarkan jenis kelamin:\")\n",
        "print(gender_counts)\n",
        "\n",
        "# Visualisasi\n",
        "plt.figure(figsize=(6,4))\n",
        "sns.countplot(data=df, x='Sex')\n",
        "plt.title(\"Distribusi Jenis Kelamin Penumpang\")\n",
        "plt.ylabel(\"Jumlah\")\n",
        "plt.show()"
      ],
      "metadata": {
        "colab": {
          "base_uri": "https://localhost:8080/",
          "height": 514
        },
        "id": "vh8ZTa67p_ll",
        "outputId": "f176cd90-8ce9-411d-b596-7c0959d48108"
      },
      "execution_count": 8,
      "outputs": [
        {
          "output_type": "stream",
          "name": "stdout",
          "text": [
            "\n",
            "Jumlah penumpang berdasarkan jenis kelamin:\n",
            "Sex\n",
            "male      577\n",
            "female    314\n",
            "Name: count, dtype: int64\n"
          ]
        },
        {
          "output_type": "display_data",
          "data": {
            "text/plain": [
              "<Figure size 600x400 with 1 Axes>"
            ],
            "image/png": "[encoded data removed]"
          },
          "metadata": {}
        }
      ]
    },
    {
      "cell_type": "markdown",
      "source": [
        "**E. Tampilkan jumlah penumpang berdasarkan kelas (Pclass) dan berapa persen dari total data yang berada di kelas 1? Visualisasi**"
      ],
      "metadata": {
        "id": "qlBg8dEzqDG2"
      }
    },
    {
      "cell_type": "code",
      "source": [
        "# e. Jumlah penumpang berdasarkan kelas dan persen kelas 1\n",
        "kelas_counts = df['Pclass'].value_counts()\n",
        "persen_kelas1 = (kelas_counts[1] / total_penumpang) * 100\n",
        "print(\"\\nJumlah penumpang berdasarkan kelas (Pclass):\")\n",
        "print(kelas_counts)\n",
        "print(f\"Persentase penumpang di kelas 1: {persen_kelas1:.2f}%\")\n",
        "\n",
        "# Visualisasi\n",
        "plt.figure(figsize=(6,4))\n",
        "sns.countplot(data=df, x='Pclass')\n",
        "plt.title(\"Distribusi Kelas Tiket Penumpang\")\n",
        "plt.ylabel(\"Jumlah\")\n",
        "plt.show()"
      ],
      "metadata": {
        "colab": {
          "base_uri": "https://localhost:8080/",
          "height": 549
        },
        "id": "5V7hjLroqMHU",
        "outputId": "fa17c08a-b43f-4556-e7a2-1961e28e439e"
      },
      "execution_count": 9,
      "outputs": [
        {
          "output_type": "stream",
          "name": "stdout",
          "text": [
            "\n",
            "Jumlah penumpang berdasarkan kelas (Pclass):\n",
            "Pclass\n",
            "3    491\n",
            "1    216\n",
            "2    184\n",
            "Name: count, dtype: int64\n",
            "Persentase penumpang di kelas 1: 24.24%\n"
          ]
        },
        {
          "output_type": "display_data",
          "data": {
            "text/plain": [
              "<Figure size 600x400 with 1 Axes>"
            ],
            "image/png": "[encoded data removed]"
          },
          "metadata": {}
        }
      ]
    },
    {
      "cell_type": "markdown",
      "source": [
        "# **# 2. PREPROCESSING**"
      ],
      "metadata": {
        "id": "Zb9nWL2tqScN"
      }
    },
    {
      "cell_type": "markdown",
      "source": [
        "***A. Apakah terdapat missing value pada data tersebut?***"
      ],
      "metadata": {
        "id": "Q6W4Is4IqgDM"
      }
    },
    {
      "cell_type": "code",
      "source": [
        "# a. Cek missing value\n",
        "print(\"\\n=== Missing Value ===\")\n",
        "print(df.isnull().sum())"
      ],
      "metadata": {
        "colab": {
          "base_uri": "https://localhost:8080/"
        },
        "id": "SZC5WnfTqunY",
        "outputId": "0fd430ec-ba4c-4fed-da0a-5cdc64d0c4dc"
      },
      "execution_count": 10,
      "outputs": [
        {
          "output_type": "stream",
          "name": "stdout",
          "text": [
            "\n",
            "=== Missing Value ===\n",
            "PassengerId      0\n",
            "Survived         0\n",
            "Pclass           0\n",
            "Name             0\n",
            "Sex              0\n",
            "Age            177\n",
            "SibSp            0\n",
            "Parch            0\n",
            "Ticket           0\n",
            "Fare             0\n",
            "Cabin          687\n",
            "Embarked         2\n",
            "dtype: int64\n"
          ]
        }
      ]
    },
    {
      "cell_type": "markdown",
      "source": [
        "***B. Jika ya, apa yang anda lakukan?***"
      ],
      "metadata": {
        "id": "_FSgevWDqzGk"
      }
    },
    {
      "cell_type": "code",
      "source": [
        "# b. Penanganan missing value\n",
        "# Kolom Age diisi median, Embarked isi mode, Cabin drop\n",
        "df['Age'].fillna(df['Age'].median(), inplace=True)\n",
        "df['Embarked'].fillna(df['Embarked'].mode()[0], inplace=True)\n",
        "df.drop(columns=['Cabin'], inplace=True)\n",
        "\n",
        "# Konfirmasi\n",
        "print(\"\\nSetelah penanganan missing value:\")\n",
        "print(df.isnull().sum())"
      ],
      "metadata": {
        "colab": {
          "base_uri": "https://localhost:8080/"
        },
        "id": "caAo6Ao6q3CZ",
        "outputId": "f1975510-658a-47e8-c425-22fd1ba50752"
      },
      "execution_count": 11,
      "outputs": [
        {
          "output_type": "stream",
          "name": "stdout",
          "text": [
            "\n",
            "Setelah penanganan missing value:\n",
            "PassengerId    0\n",
            "Survived       0\n",
            "Pclass         0\n",
            "Name           0\n",
            "Sex            0\n",
            "Age            0\n",
            "SibSp          0\n",
            "Parch          0\n",
            "Ticket         0\n",
            "Fare           0\n",
            "Embarked       0\n",
            "dtype: int64\n"
          ]
        },
        {
          "output_type": "stream",
          "name": "stderr",
          "text": [
            "<ipython-input-11-27297310fa56>:3: FutureWarning: A value is trying to be set on a copy of a DataFrame or Series through chained assignment using an inplace method.\n",
            "The behavior will change in pandas 3.0. This inplace method will never work because the intermediate object on which we are setting values always behaves as a copy.\n",
            "\n",
            "For example, when doing 'df[col].method(value, inplace=True)', try using 'df.method({col: value}, inplace=True)' or df[col] = df[col].method(value) instead, to perform the operation inplace on the original object.\n",
            "\n",
            "\n",
            "  df['Age'].fillna(df['Age'].median(), inplace=True)\n",
            "<ipython-input-11-27297310fa56>:4: FutureWarning: A value is trying to be set on a copy of a DataFrame or Series through chained assignment using an inplace method.\n",
            "The behavior will change in pandas 3.0. This inplace method will never work because the intermediate object on which we are setting values always behaves as a copy.\n",
            "\n",
            "For example, when doing 'df[col].method(value, inplace=True)', try using 'df.method({col: value}, inplace=True)' or df[col] = df[col].method(value) instead, to perform the operation inplace on the original object.\n",
            "\n",
            "\n",
            "  df['Embarked'].fillna(df['Embarked'].mode()[0], inplace=True)\n"
          ]
        }
      ]
    },
    {
      "cell_type": "markdown",
      "source": [
        "***C. Apakah terdapat outlier pada data tersebut? Jelaskan apa itu outlier!***"
      ],
      "metadata": {
        "id": "NCvWMow9q889"
      }
    },
    {
      "cell_type": "code",
      "source": [
        "import seaborn as sns\n",
        "import matplotlib.pyplot as plt\n",
        "\n",
        "# Boxplot untuk melihat outlier\n",
        "plt.figure(figsize=(12, 5))\n",
        "plt.subplot(1, 2, 1)\n",
        "sns.boxplot(data=df, y='age')\n",
        "plt.title('Boxplot Age')\n",
        "\n",
        "plt.subplot(1, 2, 2)\n",
        "sns.boxplot(data=df, y='fare')\n",
        "plt.title('Boxplot Fare')\n",
        "plt.tight_layout()\n",
        "plt.show()"
      ],
      "metadata": {
        "colab": {
          "base_uri": "https://localhost:8080/",
          "height": 502
        },
        "id": "IBZd-63KrBZy",
        "outputId": "dc0bd573-17f1-46b2-bb8a-ea7cb3c87e57"
      },
      "execution_count": 22,
      "outputs": [
        {
          "output_type": "display_data",
          "data": {
            "text/plain": [
              "<Figure size 1200x500 with 2 Axes>"
            ],
            "image/png": "[encoded data removed]"
          },
          "metadata": {}
        }
      ]
    },
    {
      "cell_type": "markdown",
      "source": [
        "***D. Apakah outlier pada data tersebut perlu diatasi serta bagaimana cara mengatasinya?***\n"
      ],
      "metadata": {
        "id": "mjoufHdTrFfe"
      }
    },
    {
      "cell_type": "code",
      "source": [
        "import matplotlib.pyplot as plt\n",
        "import seaborn as sns\n",
        "\n",
        "# Tampilkan boxplot awal\n",
        "plt.figure(figsize=(12, 5))\n",
        "\n",
        "plt.subplot(1, 2, 1)\n",
        "sns.boxplot(y=df['age'])\n",
        "plt.title('Boxplot Age (Sebelum)')\n",
        "\n",
        "plt.subplot(1, 2, 2)\n",
        "sns.boxplot(y=df['fare'])\n",
        "plt.title('Boxplot Fare (Sebelum)')\n",
        "\n",
        "plt.tight_layout()\n",
        "plt.show()\n",
        "\n",
        "# Deteksi outlier menggunakan metode IQR\n",
        "def remove_outliers_iqr(data, column):\n",
        "    Q1 = data[column].quantile(0.25)\n",
        "    Q3 = data[column].quantile(0.75)\n",
        "    IQR = Q3 - Q1\n",
        "    lower_bound = Q1 - 1.5 * IQR\n",
        "    upper_bound = Q3 + 1.5 * IQR\n",
        "    return data[(data[column] >= lower_bound) & (data[column] <= upper_bound)]\n",
        "\n",
        "# Hapus outlier dari kolom 'age' dan 'fare'\n",
        "df = remove_outliers_iqr(df, 'age')\n",
        "df = remove_outliers_iqr(df, 'fare')\n",
        "\n",
        "# Tampilkan boxplot setelah outlier dihapus\n",
        "plt.figure(figsize=(12, 5))\n",
        "\n",
        "plt.subplot(1, 2, 1)\n",
        "sns.boxplot(y=df['age'])\n",
        "plt.title('Boxplot Age (Setelah)')\n",
        "\n",
        "plt.subplot(1, 2, 2)\n",
        "sns.boxplot(y=df['fare'])\n",
        "plt.title('Boxplot Fare (Setelah)')\n",
        "\n",
        "plt.tight_layout()\n",
        "plt.show()\n",
        "\n",
        "# Cek jumlah data setelah menghapus outlier\n",
        "print(\"Jumlah data setelah menghapus outlier:\", len(df))\n"
      ],
      "metadata": {
        "colab": {
          "base_uri": "https://localhost:8080/",
          "height": 1000
        },
        "id": "eEgxAkOsrQN5",
        "outputId": "fdd0c5a9-d4d8-4710-b720-ef62b96e6f5b"
      },
      "execution_count": 26,
      "outputs": [
        {
          "output_type": "display_data",
          "data": {
            "text/plain": [
              "<Figure size 1200x500 with 2 Axes>"
            ],
            "image/png": "[encoded data removed]"
          },
          "metadata": {}
        },
        {
          "output_type": "display_data",
          "data": {
            "text/plain": [
              "<Figure size 1200x500 with 2 Axes>"
            ],
            "image/png": "[encoded data removed]"
          },
          "metadata": {}
        },
        {
          "output_type": "stream",
          "name": "stdout",
          "text": [
            "Jumlah data setelah menghapus outlier: 589\n"
          ]
        }
      ]
    },
    {
      "cell_type": "markdown",
      "source": [
        "***E.  Jika dibutuhkan silakan lakukan transformasi/standarisasi/scalling terhadap data tersebut?***"
      ],
      "metadata": {
        "id": "q-f-QGJFtqGU"
      }
    },
    {
      "cell_type": "code",
      "source": [
        "# Pastikan library-nya sudah ter-import\n",
        "from sklearn.preprocessing import StandardScaler\n",
        "import pandas as pd\n",
        "\n",
        "# Tampilkan data sebelum distandardisasi (opsional)\n",
        "print(\"Sebelum scaling:\")\n",
        "print(df[['age', 'fare']].describe())\n",
        "\n",
        "# Inisialisasi fitur numerik yang akan di-scale\n",
        "numerical = ['age', 'fare']\n",
        "\n",
        "# Inisialisasi scaler\n",
        "scaler = StandardScaler()\n",
        "\n",
        "# Lakukan scaling pada kolom numerik dan simpan ke DataFrame\n",
        "df[numerical] = scaler.fit_transform(df[numerical])\n",
        "\n",
        "# Tampilkan data setelah distandardisasi\n",
        "print(\"\\nSetelah scaling:\")\n",
        "print(df[numerical].describe())\n",
        "\n",
        "# Tampilkan beberapa baris pertama untuk konfirmasi visual\n",
        "print(\"\\nContoh hasil scaling (age dan fare):\")\n",
        "print(df[numerical].head())\n"
      ],
      "metadata": {
        "colab": {
          "base_uri": "https://localhost:8080/"
        },
        "id": "GlBuWzGIsDV-",
        "outputId": "ee96e4a7-ed40-49fd-c89c-fd7821633116"
      },
      "execution_count": 27,
      "outputs": [
        {
          "output_type": "stream",
          "name": "stdout",
          "text": [
            "Sebelum scaling:\n",
            "              age        fare\n",
            "count  589.000000  589.000000\n",
            "mean    -0.005434   -0.216740\n",
            "std      0.840169    0.698064\n",
            "min     -2.131056   -1.375643\n",
            "25%     -0.582152   -0.689877\n",
            "50%      0.013581   -0.610993\n",
            "75%      0.371020    0.042121\n",
            "max      2.098644    1.882942\n",
            "\n",
            "Setelah scaling:\n",
            "                age          fare\n",
            "count  5.890000e+02  5.890000e+02\n",
            "mean  -4.222240e-17  4.523829e-17\n",
            "std    1.000850e+00  1.000850e+00\n",
            "min   -2.532145e+00 -1.661579e+00\n",
            "25%   -6.870143e-01 -6.783608e-01\n",
            "50%    2.265147e-02 -5.652608e-01\n",
            "75%    4.484509e-01  3.711412e-01\n",
            "max    2.506482e+00  3.010419e+00\n",
            "\n",
            "Contoh hasil scaling (age dan fare):\n",
            "        age      fare\n",
            "0 -0.828947 -0.746223\n",
            "2 -0.261215 -0.661001\n",
            "4  1.016183 -0.645219\n",
            "5  0.022651 -0.593668\n",
            "8 -0.119282 -0.255934\n"
          ]
        }
      ]
    },
    {
      "cell_type": "markdown",
      "source": [
        "**# 3. MODELING**"
      ],
      "metadata": {
        "id": "apx8hjoytK9E"
      }
    },
    {
      "cell_type": "markdown",
      "source": [
        "***A. Jelaskan proses pembagian data menjadi data training dan testing dan alasan mengapa perlu membagi data tersebut.***"
      ],
      "metadata": {
        "id": "-cEXAHIYu4OA"
      }
    },
    {
      "cell_type": "markdown",
      "source": [
        "Pembagian data bertujuan untuk:\n",
        "* Training data: digunakan untuk melatih model.\n",
        "* Testing data: digunakan untuk mengukur performa model pada data baru yang belum pernah dilihat.\n",
        "\n",
        "Kalau tidak dibagi, model bisa overfitting: performa tinggi di data latih, tapi buruk di data baru.\n",
        "\n"
      ],
      "metadata": {
        "id": "TaOjUoNguqWG"
      }
    },
    {
      "cell_type": "markdown",
      "source": [
        "***B. Berapa persen pembagiannya? Mengapa memilih membagi dengan proporsi tersebut?***"
      ],
      "metadata": {
        "id": "FIJeh1-UuwLK"
      }
    },
    {
      "cell_type": "markdown",
      "source": [
        "Umumnya digunakan:\n",
        "* 80% data latih dan 20% data uji, atau\n",
        "* 70% latih, 30% uji\n",
        "\n",
        "Kita akan gunakan 80:20 karena:\n",
        "* Dataset Titanic tidak terlalu besar\n",
        "* Proporsi ini memberi cukup banyak data untuk pelatihan, dan cukup untuk pengujian\n",
        "\n"
      ],
      "metadata": {
        "id": "c1ZV-sN8u1Wv"
      }
    },
    {
      "cell_type": "markdown",
      "source": [
        "***CODE 3 A DAN 3 B***"
      ],
      "metadata": {
        "id": "mKXV8ilGvFs3"
      }
    },
    {
      "cell_type": "code",
      "source": [
        "from sklearn.model_selection import train_test_split\n",
        "from sklearn.linear_model import LogisticRegression\n",
        "from sklearn.tree import DecisionTreeClassifier\n",
        "from sklearn.ensemble import RandomForestClassifier\n",
        "from sklearn.metrics import classification_report, accuracy_score, precision_score, recall_score, f1_score\n",
        "import pandas as pd\n",
        "import matplotlib.pyplot as plt\n",
        "import seaborn as sns"
      ],
      "metadata": {
        "id": "C6zktF3tvKdR"
      },
      "execution_count": 28,
      "outputs": []
    },
    {
      "cell_type": "code",
      "source": [
        "# --- 3a & 3b: Split Data ---\n",
        "\n",
        "# Pisahkan fitur dan target\n",
        "X = df.drop(columns=['survived'])\n",
        "y = df['survived']\n",
        "\n",
        "# Split 80% training dan 20% testing\n",
        "X_train, X_test, y_train, y_test = train_test_split(\n",
        "    X, y, test_size=0.2, random_state=42\n",
        ")\n",
        "\n",
        "print(f\"Jumlah data training: {len(X_train)}\")\n",
        "print(f\"Jumlah data testing: {len(X_test)}\")"
      ],
      "metadata": {
        "colab": {
          "base_uri": "https://localhost:8080/"
        },
        "id": "SsiRVrWlvW6K",
        "outputId": "3bfe27f8-911b-4c04-81d5-31321a234a71"
      },
      "execution_count": 29,
      "outputs": [
        {
          "output_type": "stream",
          "name": "stdout",
          "text": [
            "Jumlah data training: 471\n",
            "Jumlah data testing: 118\n"
          ]
        }
      ]
    },
    {
      "cell_type": "markdown",
      "source": [
        "***C. Buatlah model klasifikasi dari 3 algortima yang berbeda. Jelaskan masing-masing model dan cara kerjanya***\n"
      ],
      "metadata": {
        "id": "Wq50LZp7ve2m"
      }
    },
    {
      "cell_type": "markdown",
      "source": [
        "Kita akan pakai:\n",
        "1. Logistic Regression\n",
        "* Model linear untuk klasifikasi biner (selamat/tidak).\n",
        "* Menghitung probabilitas kelas berdasarkan fungsi logistik.\n",
        "\n",
        "2. Decision Tree Classifier\n",
        "* Membuat pohon keputusan berdasarkan fitur yang membagi data dengan informasi paling berguna.\n",
        "\n",
        "3.  Random Forest Classifier\n",
        "* Ensembel dari banyak decision tree → hasilnya lebih stabil dan akurat."
      ],
      "metadata": {
        "id": "fEla0jW5vm-q"
      }
    },
    {
      "cell_type": "code",
      "source": [
        "from sklearn.model_selection import train_test_split\n",
        "from sklearn.linear_model import LogisticRegression\n",
        "from sklearn.tree import DecisionTreeClassifier\n",
        "from sklearn.ensemble import RandomForestClassifier\n",
        "from sklearn.metrics import classification_report, confusion_matrix, accuracy_score\n",
        "import seaborn as sns\n",
        "import matplotlib.pyplot as plt\n",
        "\n",
        "# Pisahkan fitur dan target\n",
        "X = df.drop('survived', axis=1)\n",
        "y = df['survived']\n",
        "\n",
        "# Split data (80% latih, 20% uji)\n",
        "X_train, X_test, y_train, y_test = train_test_split(X, y, test_size=0.2, random_state=42)\n",
        "\n",
        "# Inisialisasi model\n",
        "logreg = LogisticRegression()\n",
        "tree = DecisionTreeClassifier(random_state=42)\n",
        "rf = RandomForestClassifier(random_state=42)\n",
        "\n",
        "# Latih model\n",
        "logreg.fit(X_train, y_train)\n",
        "tree.fit(X_train, y_train)\n",
        "rf.fit(X_train, y_train)\n",
        "\n",
        "# Prediksi\n",
        "y_pred_logreg = logreg.predict(X_test)\n",
        "y_pred_tree = tree.predict(X_test)\n",
        "y_pred_rf = rf.predict(X_test)\n",
        "\n",
        "# Evaluasi\n",
        "print(\"=== Logistic Regression ===\")\n",
        "print(classification_report(y_test, y_pred_logreg))\n",
        "print(\"Accuracy:\", accuracy_score(y_test, y_pred_logreg))\n",
        "\n",
        "print(\"\\n=== Decision Tree ===\")\n",
        "print(classification_report(y_test, y_pred_tree))\n",
        "print(\"Accuracy:\", accuracy_score(y_test, y_pred_tree))\n",
        "\n",
        "print(\"\\n=== Random Forest ===\")\n",
        "print(classification_report(y_test, y_pred_rf))\n",
        "print(\"Accuracy:\", accuracy_score(y_test, y_pred_rf))\n"
      ],
      "metadata": {
        "colab": {
          "base_uri": "https://localhost:8080/"
        },
        "id": "BUbou8Q6v44t",
        "outputId": "2c25510b-b8a9-4232-d2f5-a2ce75d56326"
      },
      "execution_count": 30,
      "outputs": [
        {
          "output_type": "stream",
          "name": "stdout",
          "text": [
            "=== Logistic Regression ===\n",
            "              precision    recall  f1-score   support\n",
            "\n",
            "           0       0.89      0.83      0.86        87\n",
            "           1       0.59      0.71      0.65        31\n",
            "\n",
            "    accuracy                           0.80       118\n",
            "   macro avg       0.74      0.77      0.75       118\n",
            "weighted avg       0.81      0.80      0.80       118\n",
            "\n",
            "Accuracy: 0.7966101694915254\n",
            "\n",
            "=== Decision Tree ===\n",
            "              precision    recall  f1-score   support\n",
            "\n",
            "           0       0.87      0.82      0.84        87\n",
            "           1       0.56      0.65      0.60        31\n",
            "\n",
            "    accuracy                           0.77       118\n",
            "   macro avg       0.71      0.73      0.72       118\n",
            "weighted avg       0.78      0.77      0.78       118\n",
            "\n",
            "Accuracy: 0.7711864406779662\n",
            "\n",
            "=== Random Forest ===\n",
            "              precision    recall  f1-score   support\n",
            "\n",
            "           0       0.86      0.85      0.86        87\n",
            "           1       0.59      0.61      0.60        31\n",
            "\n",
            "    accuracy                           0.79       118\n",
            "   macro avg       0.73      0.73      0.73       118\n",
            "weighted avg       0.79      0.79      0.79       118\n",
            "\n",
            "Accuracy: 0.788135593220339\n"
          ]
        }
      ]
    },
    {
      "cell_type": "markdown",
      "source": [
        "***D. Berapa nilai evaluasi dari masing-masing model pada data uji? Apa arti dari masing-masing metrik evaluasi tersebut?***"
      ],
      "metadata": {
        "id": "0jhynEtYv632"
      }
    },
    {
      "cell_type": "code",
      "source": [
        "# Mengimpor library yang dibutuhkan\n",
        "from sklearn.metrics import accuracy_score, precision_score, recall_score, f1_score\n",
        "import numpy as np\n",
        "\n",
        "# Misalnya, y_true adalah label sebenarnya dan y_pred adalah hasil prediksi model\n",
        "# Contoh data, ganti dengan hasil dari model Anda\n",
        "y_true = np.array([1, 0, 1, 1, 0, 1, 0, 0, 1, 0])  # Data asli (misalnya, 1 = selamat, 0 = tidak selamat)\n",
        "y_pred = np.array([1, 0, 1, 0, 0, 1, 1, 0, 1, 0])  # Prediksi model\n",
        "\n",
        "# Menghitung evaluasi metrik\n",
        "accuracy = accuracy_score(y_true, y_pred)\n",
        "precision = precision_score(y_true, y_pred)\n",
        "recall = recall_score(y_true, y_pred)\n",
        "f1 = f1_score(y_true, y_pred)\n",
        "\n",
        "# Menampilkan hasil evaluasi\n",
        "print(f\"Accuracy: {accuracy:.4f}\")\n",
        "print(f\"Precision: {precision:.4f}\")\n",
        "print(f\"Recall: {recall:.4f}\")\n",
        "print(f\"F1-Score: {f1:.4f}\")"
      ],
      "metadata": {
        "colab": {
          "base_uri": "https://localhost:8080/"
        },
        "id": "KqyhzWQfv-kD",
        "outputId": "e17e73ce-4142-43fc-ad52-bd786db78b5d"
      },
      "execution_count": 32,
      "outputs": [
        {
          "output_type": "stream",
          "name": "stdout",
          "text": [
            "Accuracy: 0.8000\n",
            "Precision: 0.8000\n",
            "Recall: 0.8000\n",
            "F1-Score: 0.8000\n"
          ]
        }
      ]
    },
    {
      "cell_type": "markdown",
      "source": [
        "***E. Bandingkan hasil dari ketiga algoritma tersebut, mana yang paling bagus? Berikan ulasan kira-kira apa yang menyebabkan metode tersebut dapat memprediksi dataset anda dengan baik.***\n",
        "\n"
      ],
      "metadata": {
        "id": "Je-h74jJwNa4"
      }
    },
    {
      "cell_type": "code",
      "source": [
        "# --- 3e: Evaluasi & Bandingkan ---\n",
        "\n",
        "# Simpan hasil evaluasi dalam DataFrame\n",
        "hasil = pd.DataFrame({\n",
        "    'Model': ['Logistic Regression', 'Decision Tree', 'Random Forest'],\n",
        "    'Accuracy': [\n",
        "        accuracy_score(y_test, y_pred_logreg),\n",
        "        accuracy_score(y_test, y_pred_tree),\n",
        "        accuracy_score(y_test, y_pred_rf)\n",
        "    ],\n",
        "    'Precision': [\n",
        "        precision_score(y_test, y_pred_logreg),\n",
        "        precision_score(y_test, y_pred_tree),\n",
        "        precision_score(y_test, y_pred_rf)\n",
        "    ],\n",
        "    'Recall': [\n",
        "        recall_score(y_test, y_pred_logreg),\n",
        "        recall_score(y_test, y_pred_tree),\n",
        "        recall_score(y_test, y_pred_rf)\n",
        "    ],\n",
        "    'F1 Score': [\n",
        "        f1_score(y_test, y_pred_logreg),\n",
        "        f1_score(y_test, y_pred_tree),\n",
        "        f1_score(y_test, y_pred_rf)\n",
        "    ]\n",
        "})\n",
        "\n",
        "# Tampilkan hasil evaluasi\n",
        "print(\"\\n=== Hasil Evaluasi Tiga Model ===\")\n",
        "print(hasil)\n",
        "\n",
        "# Visualisasi hasil evaluasi\n",
        "plt.figure(figsize=(12,6))\n",
        "metrics = ['Accuracy', 'Precision', 'Recall', 'F1 Score']\n",
        "for i, metric in enumerate(metrics):\n",
        "    plt.subplot(2, 2, i+1)\n",
        "    sns.barplot(x='Model', y=metric, data=hasil)\n",
        "    plt.title(metric)\n",
        "    plt.ylim(0,1)\n",
        "\n",
        "plt.tight_layout()\n",
        "plt.show()"
      ],
      "metadata": {
        "colab": {
          "base_uri": "https://localhost:8080/",
          "height": 731
        },
        "id": "wEz5NoIqwNvE",
        "outputId": "e999eed8-f222-4031-c4d4-d0571198b340"
      },
      "execution_count": 31,
      "outputs": [
        {
          "output_type": "stream",
          "name": "stdout",
          "text": [
            "\n",
            "=== Hasil Evaluasi Tiga Model ===\n",
            "                 Model  Accuracy  Precision    Recall  F1 Score\n",
            "0  Logistic Regression  0.796610   0.594595  0.709677  0.647059\n",
            "1        Decision Tree  0.771186   0.555556  0.645161  0.597015\n",
            "2        Random Forest  0.788136   0.593750  0.612903  0.603175\n"
          ]
        },
        {
          "output_type": "display_data",
          "data": {
            "text/plain": [
              "<Figure size 1200x600 with 4 Axes>"
            ],
            "image/png": "[encoded data removed]"
          },
          "metadata": {}
        }
      ]
    },
    {
      "cell_type": "markdown",
      "source": [
        "# **# 4. EVALUASI MODEL TERBAIK (Contoh: Random Forest)**"
      ],
      "metadata": {
        "id": "_vd9H_1gwui9"
      }
    },
    {
      "cell_type": "code",
      "source": [
        "from google.colab import files\n",
        "uploaded = files.upload()"
      ],
      "metadata": {
        "colab": {
          "base_uri": "https://localhost:8080/",
          "height": 72
        },
        "id": "Pk6Y_Xwk0FFv",
        "outputId": "0acaae07-a111-4d08-b57f-9b88d3485b8e"
      },
      "execution_count": 37,
      "outputs": [
        {
          "output_type": "display_data",
          "data": {
            "text/plain": [
              "<IPython.core.display.HTML object>"
            ],
            "text/html": [
              "\n",
              "     <input type=\"file\" id=\"files-9a1b51ef-966a-4c40-8009-099c5362d175\" name=\"files[]\" multiple disabled\n",
              "        style=\"border:none\" />\n",
              "     <output id=\"result-9a1b51ef-966a-4c40-8009-099c5362d175\">\n",
              "      Upload widget is only available when the cell has been executed in the\n",
              "      current browser session. Please rerun this cell to enable.\n",
              "      </output>\n",
              "      <script>// Copyright 2017 Google LLC\n",
              "//\n",
              "// Licensed under the Apache License, Version 2.0 (the \"License\");\n",
              "// you may not use this file except in compliance with the License.\n",
              "// You may obtain a copy of the License at\n",
              "//\n",
              "//      http://www.apache.org/licenses/LICENSE-2.0\n",
              "//\n",
              "// Unless required by applicable law or agreed to in writing, software\n",
              "// distributed under the License is distributed on an \"AS IS\" BASIS,\n",
              "// WITHOUT WARRANTIES OR CONDITIONS OF ANY KIND, either express or implied.\n",
              "// See the License for the specific language governing permissions and\n",
              "// limitations under the License.\n",
              "\n",
              "/**\n",
              " * @fileoverview Helpers for google.colab Python module.\n",
              " */\n",
              "(function(scope) {\n",
              "function span(text, styleAttributes = {}) {\n",
              "  const element = document.createElement('span');\n",
              "  element.textContent = text;\n",
              "  for (const key of Object.keys(styleAttributes)) {\n",
              "    element.style[key] = styleAttributes[key];\n",
              "  }\n",
              "  return element;\n",
              "}\n",
              "\n",
              "// Max number of bytes which will be uploaded at a time.\n",
              "const MAX_PAYLOAD_SIZE = 100 * 1024;\n",
              "\n",
              "function _uploadFiles(inputId, outputId) {\n",
              "  const steps = uploadFilesStep(inputId, outputId);\n",
              "  const outputElement = document.getElementById(outputId);\n",
              "  // Cache steps on the outputElement to make it available for the next call\n",
              "  // to uploadFilesContinue from Python.\n",
              "  outputElement.steps = steps;\n",
              "\n",
              "  return _uploadFilesContinue(outputId);\n",
              "}\n",
              "\n",
              "// This is roughly an async generator (not supported in the browser yet),\n",
              "// where there are multiple asynchronous steps and the Python side is going\n",
              "// to poll for completion of each step.\n",
              "// This uses a Promise to block the python side on completion of each step,\n",
              "// then passes the result of the previous step as the input to the next step.\n",
              "function _uploadFilesContinue(outputId) {\n",
              "  const outputElement = document.getElementById(outputId);\n",
              "  const steps = outputElement.steps;\n",
              "\n",
              "  const next = steps.next(outputElement.lastPromiseValue);\n",
              "  return Promise.resolve(next.value.promise).then((value) => {\n",
              "    // Cache the last promise value to make it available to the next\n",
              "    // step of the generator.\n",
              "    outputElement.lastPromiseValue = value;\n",
              "    return next.value.response;\n",
              "  });\n",
              "}\n",
              "\n",
              "/**\n",
              " * Generator function which is called between each async step of the upload\n",
              " * process.\n",
              " * @param {string} inputId Element ID of the input file picker element.\n",
              " * @param {string} outputId Element ID of the output display.\n",
              " * @return {!Iterable<!Object>} Iterable of next steps.\n",
              " */\n",
              "function* uploadFilesStep(inputId, outputId) {\n",
              "  const inputElement = document.getElementById(inputId);\n",
              "  inputElement.disabled = false;\n",
              "\n",
              "  const outputElement = document.getElementById(outputId);\n",
              "  outputElement.innerHTML = '';\n",
              "\n",
              "  const pickedPromise = new Promise((resolve) => {\n",
              "    inputElement.addEventListener('change', (e) => {\n",
              "      resolve(e.target.files);\n",
              "    });\n",
              "  });\n",
              "\n",
              "  const cancel = document.createElement('button');\n",
              "  inputElement.parentElement.appendChild(cancel);\n",
              "  cancel.textContent = 'Cancel upload';\n",
              "  const cancelPromise = new Promise((resolve) => {\n",
              "    cancel.onclick = () => {\n",
              "      resolve(null);\n",
              "    };\n",
              "  });\n",
              "\n",
              "  // Wait for the user to pick the files.\n",
              "  const files = yield {\n",
              "    promise: Promise.race([pickedPromise, cancelPromise]),\n",
              "    response: {\n",
              "      action: 'starting',\n",
              "    }\n",
              "  };\n",
              "\n",
              "  cancel.remove();\n",
              "\n",
              "  // Disable the input element since further picks are not allowed.\n",
              "  inputElement.disabled = true;\n",
              "\n",
              "  if (!files) {\n",
              "    return {\n",
              "      response: {\n",
              "        action: 'complete',\n",
              "      }\n",
              "    };\n",
              "  }\n",
              "\n",
              "  for (const file of files) {\n",
              "    const li = document.createElement('li');\n",
              "    li.append(span(file.name, {fontWeight: 'bold'}));\n",
              "    li.append(span(\n",
              "        `(${file.type || 'n/a'}) - ${file.size} bytes, ` +\n",
              "        `last modified: ${\n",
              "            file.lastModifiedDate ? file.lastModifiedDate.toLocaleDateString() :\n",
              "                                    'n/a'} - `));\n",
              "    const percent = span('0% done');\n",
              "    li.appendChild(percent);\n",
              "\n",
              "    outputElement.appendChild(li);\n",
              "\n",
              "    const fileDataPromise = new Promise((resolve) => {\n",
              "      const reader = new FileReader();\n",
              "      reader.onload = (e) => {\n",
              "        resolve(e.target.result);\n",
              "      };\n",
              "      reader.readAsArrayBuffer(file);\n",
              "    });\n",
              "    // Wait for the data to be ready.\n",
              "    let fileData = yield {\n",
              "      promise: fileDataPromise,\n",
              "      response: {\n",
              "        action: 'continue',\n",
              "      }\n",
              "    };\n",
              "\n",
              "    // Use a chunked sending to avoid message size limits. See b/62115660.\n",
              "    let position = 0;\n",
              "    do {\n",
              "      const length = Math.min(fileData.byteLength - position, MAX_PAYLOAD_SIZE);\n",
              "      const chunk = new Uint8Array(fileData, position, length);\n",
              "      position += length;\n",
              "\n",
              "      const base64 = btoa(String.fromCharCode.apply(null, chunk));\n",
              "      yield {\n",
              "        response: {\n",
              "          action: 'append',\n",
              "          file: file.name,\n",
              "          data: base64,\n",
              "        },\n",
              "      };\n",
              "\n",
              "      let percentDone = fileData.byteLength === 0 ?\n",
              "          100 :\n",
              "          Math.round((position / fileData.byteLength) * 100);\n",
              "      percent.textContent = `${percentDone}% done`;\n",
              "\n",
              "    } while (position < fileData.byteLength);\n",
              "  }\n",
              "\n",
              "  // All done.\n",
              "  yield {\n",
              "    response: {\n",
              "      action: 'complete',\n",
              "    }\n",
              "  };\n",
              "}\n",
              "\n",
              "scope.google = scope.google || {};\n",
              "scope.google.colab = scope.google.colab || {};\n",
              "scope.google.colab._files = {\n",
              "  _uploadFiles,\n",
              "  _uploadFilesContinue,\n",
              "};\n",
              "})(self);\n",
              "</script> "
            ]
          },
          "metadata": {}
        },
        {
          "output_type": "stream",
          "name": "stdout",
          "text": [
            "Saving Titanic-Dataset.csv to Titanic-Dataset (1).csv\n"
          ]
        }
      ]
    },
    {
      "cell_type": "code",
      "source": [
        "# 1. Import library\n",
        "import pandas as pd\n",
        "from sklearn.model_selection import train_test_split\n",
        "from sklearn.ensemble import RandomForestClassifier\n",
        "from sklearn.metrics import classification_report, confusion_matrix\n",
        "\n",
        "# 2. Upload file dari lokal ke Colab\n",
        "from google.colab import files\n",
        "uploaded = files.upload()\n",
        "\n",
        "# 3. Load data\n",
        "df = pd.read_csv('Titanic-Dataset.csv')  # atau 'Titanic-Dataset (2).csv' jika nama file berubah\n",
        "\n",
        "# 4. Preprocessing sederhana\n",
        "df = df[['Survived', 'Pclass', 'Sex', 'Age', 'Fare']].dropna()\n",
        "df['Sex'] = df['Sex'].map({'male': 0, 'female': 1})\n",
        "\n",
        "# 5. Pisahkan fitur dan target\n",
        "X = df.drop('Survived', axis=1)\n",
        "y = df['Survived']\n",
        "\n",
        "# 6. Split data (PERBAIKAN di sini)\n",
        "X_train, X_test, y_train, y_test = train_test_split(X, y, test_size=0.2, random_state=42)\n",
        "\n",
        "# 7. Training model\n",
        "model = RandomForestClassifier(random_state=42)\n",
        "model.fit(X_train, y_train)\n",
        "\n",
        "# 8. Prediksi dan evaluasi\n",
        "y_pred = model.predict(X_test)\n",
        "report = classification_report(y_test, y_pred, output_dict=True)\n",
        "print(\"Classification Report:\\n\")\n",
        "print(classification_report(y_test, y_pred))"
      ],
      "metadata": {
        "colab": {
          "base_uri": "https://localhost:8080/",
          "height": 263
        },
        "id": "TqyyZFe_0H5r",
        "outputId": "61c6aafb-437a-449d-da29-6e5c936fa7f6"
      },
      "execution_count": 43,
      "outputs": [
        {
          "output_type": "display_data",
          "data": {
            "text/plain": [
              "<IPython.core.display.HTML object>"
            ],
            "text/html": [
              "\n",
              "     <input type=\"file\" id=\"files-938331b0-922f-4fcb-8057-80781685d96c\" name=\"files[]\" multiple disabled\n",
              "        style=\"border:none\" />\n",
              "     <output id=\"result-938331b0-922f-4fcb-8057-80781685d96c\">\n",
              "      Upload widget is only available when the cell has been executed in the\n",
              "      current browser session. Please rerun this cell to enable.\n",
              "      </output>\n",
              "      <script>// Copyright 2017 Google LLC\n",
              "//\n",
              "// Licensed under the Apache License, Version 2.0 (the \"License\");\n",
              "// you may not use this file except in compliance with the License.\n",
              "// You may obtain a copy of the License at\n",
              "//\n",
              "//      http://www.apache.org/licenses/LICENSE-2.0\n",
              "//\n",
              "// Unless required by applicable law or agreed to in writing, software\n",
              "// distributed under the License is distributed on an \"AS IS\" BASIS,\n",
              "// WITHOUT WARRANTIES OR CONDITIONS OF ANY KIND, either express or implied.\n",
              "// See the License for the specific language governing permissions and\n",
              "// limitations under the License.\n",
              "\n",
              "/**\n",
              " * @fileoverview Helpers for google.colab Python module.\n",
              " */\n",
              "(function(scope) {\n",
              "function span(text, styleAttributes = {}) {\n",
              "  const element = document.createElement('span');\n",
              "  element.textContent = text;\n",
              "  for (const key of Object.keys(styleAttributes)) {\n",
              "    element.style[key] = styleAttributes[key];\n",
              "  }\n",
              "  return element;\n",
              "}\n",
              "\n",
              "// Max number of bytes which will be uploaded at a time.\n",
              "const MAX_PAYLOAD_SIZE = 100 * 1024;\n",
              "\n",
              "function _uploadFiles(inputId, outputId) {\n",
              "  const steps = uploadFilesStep(inputId, outputId);\n",
              "  const outputElement = document.getElementById(outputId);\n",
              "  // Cache steps on the outputElement to make it available for the next call\n",
              "  // to uploadFilesContinue from Python.\n",
              "  outputElement.steps = steps;\n",
              "\n",
              "  return _uploadFilesContinue(outputId);\n",
              "}\n",
              "\n",
              "// This is roughly an async generator (not supported in the browser yet),\n",
              "// where there are multiple asynchronous steps and the Python side is going\n",
              "// to poll for completion of each step.\n",
              "// This uses a Promise to block the python side on completion of each step,\n",
              "// then passes the result of the previous step as the input to the next step.\n",
              "function _uploadFilesContinue(outputId) {\n",
              "  const outputElement = document.getElementById(outputId);\n",
              "  const steps = outputElement.steps;\n",
              "\n",
              "  const next = steps.next(outputElement.lastPromiseValue);\n",
              "  return Promise.resolve(next.value.promise).then((value) => {\n",
              "    // Cache the last promise value to make it available to the next\n",
              "    // step of the generator.\n",
              "    outputElement.lastPromiseValue = value;\n",
              "    return next.value.response;\n",
              "  });\n",
              "}\n",
              "\n",
              "/**\n",
              " * Generator function which is called between each async step of the upload\n",
              " * process.\n",
              " * @param {string} inputId Element ID of the input file picker element.\n",
              " * @param {string} outputId Element ID of the output display.\n",
              " * @return {!Iterable<!Object>} Iterable of next steps.\n",
              " */\n",
              "function* uploadFilesStep(inputId, outputId) {\n",
              "  const inputElement = document.getElementById(inputId);\n",
              "  inputElement.disabled = false;\n",
              "\n",
              "  const outputElement = document.getElementById(outputId);\n",
              "  outputElement.innerHTML = '';\n",
              "\n",
              "  const pickedPromise = new Promise((resolve) => {\n",
              "    inputElement.addEventListener('change', (e) => {\n",
              "      resolve(e.target.files);\n",
              "    });\n",
              "  });\n",
              "\n",
              "  const cancel = document.createElement('button');\n",
              "  inputElement.parentElement.appendChild(cancel);\n",
              "  cancel.textContent = 'Cancel upload';\n",
              "  const cancelPromise = new Promise((resolve) => {\n",
              "    cancel.onclick = () => {\n",
              "      resolve(null);\n",
              "    };\n",
              "  });\n",
              "\n",
              "  // Wait for the user to pick the files.\n",
              "  const files = yield {\n",
              "    promise: Promise.race([pickedPromise, cancelPromise]),\n",
              "    response: {\n",
              "      action: 'starting',\n",
              "    }\n",
              "  };\n",
              "\n",
              "  cancel.remove();\n",
              "\n",
              "  // Disable the input element since further picks are not allowed.\n",
              "  inputElement.disabled = true;\n",
              "\n",
              "  if (!files) {\n",
              "    return {\n",
              "      response: {\n",
              "        action: 'complete',\n",
              "      }\n",
              "    };\n",
              "  }\n",
              "\n",
              "  for (const file of files) {\n",
              "    const li = document.createElement('li');\n",
              "    li.append(span(file.name, {fontWeight: 'bold'}));\n",
              "    li.append(span(\n",
              "        `(${file.type || 'n/a'}) - ${file.size} bytes, ` +\n",
              "        `last modified: ${\n",
              "            file.lastModifiedDate ? file.lastModifiedDate.toLocaleDateString() :\n",
              "                                    'n/a'} - `));\n",
              "    const percent = span('0% done');\n",
              "    li.appendChild(percent);\n",
              "\n",
              "    outputElement.appendChild(li);\n",
              "\n",
              "    const fileDataPromise = new Promise((resolve) => {\n",
              "      const reader = new FileReader();\n",
              "      reader.onload = (e) => {\n",
              "        resolve(e.target.result);\n",
              "      };\n",
              "      reader.readAsArrayBuffer(file);\n",
              "    });\n",
              "    // Wait for the data to be ready.\n",
              "    let fileData = yield {\n",
              "      promise: fileDataPromise,\n",
              "      response: {\n",
              "        action: 'continue',\n",
              "      }\n",
              "    };\n",
              "\n",
              "    // Use a chunked sending to avoid message size limits. See b/62115660.\n",
              "    let position = 0;\n",
              "    do {\n",
              "      const length = Math.min(fileData.byteLength - position, MAX_PAYLOAD_SIZE);\n",
              "      const chunk = new Uint8Array(fileData, position, length);\n",
              "      position += length;\n",
              "\n",
              "      const base64 = btoa(String.fromCharCode.apply(null, chunk));\n",
              "      yield {\n",
              "        response: {\n",
              "          action: 'append',\n",
              "          file: file.name,\n",
              "          data: base64,\n",
              "        },\n",
              "      };\n",
              "\n",
              "      let percentDone = fileData.byteLength === 0 ?\n",
              "          100 :\n",
              "          Math.round((position / fileData.byteLength) * 100);\n",
              "      percent.textContent = `${percentDone}% done`;\n",
              "\n",
              "    } while (position < fileData.byteLength);\n",
              "  }\n",
              "\n",
              "  // All done.\n",
              "  yield {\n",
              "    response: {\n",
              "      action: 'complete',\n",
              "    }\n",
              "  };\n",
              "}\n",
              "\n",
              "scope.google = scope.google || {};\n",
              "scope.google.colab = scope.google.colab || {};\n",
              "scope.google.colab._files = {\n",
              "  _uploadFiles,\n",
              "  _uploadFilesContinue,\n",
              "};\n",
              "})(self);\n",
              "</script> "
            ]
          },
          "metadata": {}
        },
        {
          "output_type": "stream",
          "name": "stdout",
          "text": [
            "Saving Titanic-Dataset.csv to Titanic-Dataset (4).csv\n",
            "Classification Report:\n",
            "\n",
            "              precision    recall  f1-score   support\n",
            "\n",
            "           0       0.80      0.80      0.80        87\n",
            "           1       0.70      0.70      0.70        56\n",
            "\n",
            "    accuracy                           0.76       143\n",
            "   macro avg       0.75      0.75      0.75       143\n",
            "weighted avg       0.76      0.76      0.76       143\n",
            "\n"
          ]
        }
      ]
    },
    {
      "cell_type": "markdown",
      "source": [
        "***A. Berdasarkan classification report model terbaik, berapa nilai precision dan recall untuk prediksi penumpang yang \"selamat\"?***"
      ],
      "metadata": {
        "id": "R6cKA6VD09EV"
      }
    },
    {
      "cell_type": "code",
      "source": [
        "# Classification report\n",
        "from sklearn.metrics import classification_report\n",
        "\n",
        "y_pred = model.predict(X_test)\n",
        "report = classification_report(y_test, y_pred, output_dict=True)\n",
        "\n",
        "# a. Precision dan Recall untuk penumpang yang \"selamat\" (label = 1)\n",
        "precision_selamat = report['1']['precision']\n",
        "recall_selamat = report['1']['recall']\n",
        "\n",
        "print(\"=== A. Precision & Recall (Penumpang Selamat) ===\")\n",
        "print(f\"Precision (selamat): {precision_selamat:.2f}\")\n",
        "print(f\"Recall (selamat): {recall_selamat:.2f}\")"
      ],
      "metadata": {
        "colab": {
          "base_uri": "https://localhost:8080/"
        },
        "id": "HB7-wYDV0wPH",
        "outputId": "c21235ce-b246-4579-e766-e8e83498bd1c"
      },
      "execution_count": 42,
      "outputs": [
        {
          "output_type": "stream",
          "name": "stdout",
          "text": [
            "=== A. Precision & Recall (Penumpang Selamat) ===\n",
            "Precision (selamat): 0.70\n",
            "Recall (selamat): 0.70\n"
          ]
        }
      ]
    },
    {
      "cell_type": "markdown",
      "source": [
        "***B. Berapa banyak penumpang yang diprediksi selamat, dan berapa di antaranya benar-benar selamat?***"
      ],
      "metadata": {
        "id": "wVjzPty7xH8g"
      }
    },
    {
      "cell_type": "code",
      "source": [
        "# b. Hitung prediksi selamat dan kebenarannya\n",
        "prediksi_selamat = y_pred == 1\n",
        "jumlah_prediksi_selamat = prediksi_selamat.sum()\n",
        "jumlah_benar_selamat = ((y_pred == 1) & (y_test == 1)).sum()\n",
        "\n",
        "print(\"\\n=== B. Evaluasi Jumlah Prediksi Selamat ===\")\n",
        "print(f\"Jumlah penumpang yang diprediksi selamat: {jumlah_prediksi_selamat}\")\n",
        "print(f\"Jumlah dari mereka yang benar-benar selamat: {jumlah_benar_selamat}\")"
      ],
      "metadata": {
        "colab": {
          "base_uri": "https://localhost:8080/"
        },
        "id": "j5w00nzd03Mn",
        "outputId": "d6b73bf4-aea0-489a-eaaf-afaba6d2c70d"
      },
      "execution_count": 44,
      "outputs": [
        {
          "output_type": "stream",
          "name": "stdout",
          "text": [
            "\n",
            "=== B. Evaluasi Jumlah Prediksi Selamat ===\n",
            "Jumlah penumpang yang diprediksi selamat: 56\n",
            "Jumlah dari mereka yang benar-benar selamat: 39\n"
          ]
        }
      ]
    }
  ]
}